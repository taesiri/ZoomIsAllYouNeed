{
 "cells": [
  {
   "attachments": {},
   "cell_type": "markdown",
   "metadata": {},
   "source": [
    "## Anchor-based analysis\n",
    "`%` of dataset that are solvable with certain group of patches"
   ]
  },
  {
   "cell_type": "code",
   "execution_count": 1,
   "metadata": {},
   "outputs": [],
   "source": [
    "import json\n",
    "import os\n",
    "import pickle\n",
    "import random\n",
    "from functools import partial\n",
    "from glob import glob\n",
    "\n",
    "import matplotlib\n",
    "import numpy as np\n",
    "import pandas as pd\n",
    "import seaborn as sns\n",
    "import timm\n",
    "import torch\n",
    "import torch.nn.functional as F\n",
    "import torchvision.transforms as transforms\n",
    "import torchvision.transforms.functional as fv\n",
    "from matplotlib import pyplot as plt\n",
    "from matplotlib.backends.backend_pdf import PdfPages\n",
    "from PIL import Image\n",
    "from torchvision.datasets import ImageFolder\n",
    "from tqdm import tqdm\n",
    "import matplotlib.patches as patches\n",
    "\n",
    "from collections import defaultdict\n",
    "\n",
    "sns.set()\n",
    "\n",
    "pd.set_option(\"display.max_columns\", 100)\n",
    "pd.set_option(\"display.max_rows\", 100)\n"
   ]
  },
  {
   "cell_type": "markdown",
   "metadata": {},
   "source": [
    "### Helpers"
   ]
  },
  {
   "cell_type": "code",
   "execution_count": 2,
   "metadata": {},
   "outputs": [],
   "source": [
    "dataset_names = [\n",
    "    \"imagenet_1k\",\n",
    "    \"imagenet_1k_real\",\n",
    "    \"imagenet_IN_plus_real\",\n",
    "    \"imagenet_r\",\n",
    "    \"imagenet_a\",\n",
    "    \"imagenet_sketch\",\n",
    "    \"objectnet\",\n",
    "]\n",
    "\n",
    "model_names = [\"resnet18\", \"resnet50\", \"vit32\", \"vgg16\", \"alexnet\", \"clip_vit_l_14\"]\n",
    "\n",
    "model_name_lookup = {\n",
    "    \"resnet18\": \"resnet18\",\n",
    "    \"resnet50\": \"resnet50\",\n",
    "    \"vit32\": \"vit_b_32\",\n",
    "    \"vgg16\": \"vgg16\",\n",
    "    \"alexnet\": \"alexnet\",\n",
    "    \"clip_vit_l_14\": \"clip_vit_l_14\"\n",
    "}\n",
    "\n",
    "pretty_model_names = {\n",
    "    \"resnet18\": \"ResNet-18\",\n",
    "    \"resnet50\": \"ResNet-50\",\n",
    "    \"vit32\": \"ViT-B/32\",\n",
    "    \"vgg16\": \"VGG-16\",\n",
    "    \"alexnet\": \"AlexNet\",\n",
    "    \"clip_vit_l_14\": \"CLIP ViT-L/14\"\n",
    "}\n",
    "\n",
    "pretty_dataset_names = {\n",
    "    \"imagenet_1k\": \"ImageNet\",\n",
    "    \"imagenet_1k_real\": \"ImageNet ReaL\",\n",
    "    \"imagenet_IN_plus_real\": \"ImageNet + ReaL\",\n",
    "    \"imagenet_r\": \"ImageNet-R\",\n",
    "    \"imagenet_a\": \"ImageNet-A\",\n",
    "    \"imagenet_sketch\": \"ImageNet-Sketch\",\n",
    "    \"objectnet\": \"ObjectNet\",\n",
    "}\n"
   ]
  },
  {
   "cell_type": "markdown",
   "metadata": {},
   "source": [
    "### Load results"
   ]
  },
  {
   "cell_type": "code",
   "execution_count": 3,
   "metadata": {},
   "outputs": [],
   "source": [
    "with open('../data/correctness.pkl', 'rb') as f:\n",
    "    correctness_dfs = pickle.load(f)"
   ]
  },
  {
   "cell_type": "markdown",
   "metadata": {},
   "source": [
    "## Classification Results\n",
    "\n",
    "1. Standard 1-crop accuracy\n",
    "2. Maximum possible accuracy"
   ]
  },
  {
   "cell_type": "code",
   "execution_count": 4,
   "metadata": {},
   "outputs": [],
   "source": [
    "standard_accuracy = defaultdict(dict)\n",
    "max_possible_accuracy = defaultdict(dict)\n",
    "\n",
    "for dataset in dataset_names:\n",
    "    for model in model_names:\n",
    "        standard_accuracy[dataset][model] = 100* correctness_dfs[dataset][model].loc['LOC:1_1_Size:256'].mean()\n",
    "        max_possible_accuracy[dataset][model]  = 100*np.mean(correctness_dfs[dataset][model].max(0))"
   ]
  },
  {
   "cell_type": "code",
   "execution_count": 5,
   "metadata": {},
   "outputs": [
    {
     "data": {
      "text/html": [
       "<div>\n",
       "<style scoped>\n",
       "    .dataframe tbody tr th:only-of-type {\n",
       "        vertical-align: middle;\n",
       "    }\n",
       "\n",
       "    .dataframe tbody tr th {\n",
       "        vertical-align: top;\n",
       "    }\n",
       "\n",
       "    .dataframe thead th {\n",
       "        text-align: right;\n",
       "    }\n",
       "</style>\n",
       "<table border=\"1\" class=\"dataframe\">\n",
       "  <thead>\n",
       "    <tr style=\"text-align: right;\">\n",
       "      <th></th>\n",
       "      <th>ImageNet</th>\n",
       "      <th>ImageNet ReaL</th>\n",
       "      <th>ImageNet + ReaL</th>\n",
       "      <th>ImageNet-R</th>\n",
       "      <th>ImageNet-A</th>\n",
       "      <th>ImageNet-Sketch</th>\n",
       "      <th>ObjectNet</th>\n",
       "    </tr>\n",
       "  </thead>\n",
       "  <tbody>\n",
       "    <tr>\n",
       "      <th>ResNet-18</th>\n",
       "      <td>69.45</td>\n",
       "      <td>76.94</td>\n",
       "      <td>76.47</td>\n",
       "      <td>32.14</td>\n",
       "      <td>1.37</td>\n",
       "      <td>19.41</td>\n",
       "      <td>27.59</td>\n",
       "    </tr>\n",
       "    <tr>\n",
       "      <th>ResNet-50</th>\n",
       "      <td>75.75</td>\n",
       "      <td>82.63</td>\n",
       "      <td>82.97</td>\n",
       "      <td>35.39</td>\n",
       "      <td>0.21</td>\n",
       "      <td>22.91</td>\n",
       "      <td>36.18</td>\n",
       "    </tr>\n",
       "    <tr>\n",
       "      <th>ViT-B/32</th>\n",
       "      <td>75.75</td>\n",
       "      <td>81.89</td>\n",
       "      <td>82.59</td>\n",
       "      <td>41.29</td>\n",
       "      <td>9.64</td>\n",
       "      <td>26.83</td>\n",
       "      <td>30.89</td>\n",
       "    </tr>\n",
       "    <tr>\n",
       "      <th>VGG-16</th>\n",
       "      <td>71.37</td>\n",
       "      <td>78.90</td>\n",
       "      <td>78.52</td>\n",
       "      <td>26.98</td>\n",
       "      <td>2.69</td>\n",
       "      <td>16.78</td>\n",
       "      <td>28.32</td>\n",
       "    </tr>\n",
       "    <tr>\n",
       "      <th>AlexNet</th>\n",
       "      <td>56.16</td>\n",
       "      <td>62.67</td>\n",
       "      <td>61.76</td>\n",
       "      <td>21.10</td>\n",
       "      <td>1.75</td>\n",
       "      <td>10.05</td>\n",
       "      <td>14.23</td>\n",
       "    </tr>\n",
       "    <tr>\n",
       "      <th>CLIP ViT-L/14</th>\n",
       "      <td>75.04</td>\n",
       "      <td>80.69</td>\n",
       "      <td>81.95</td>\n",
       "      <td>86.83</td>\n",
       "      <td>71.28</td>\n",
       "      <td>58.23</td>\n",
       "      <td>66.32</td>\n",
       "    </tr>\n",
       "  </tbody>\n",
       "</table>\n",
       "</div>"
      ],
      "text/plain": [
       "               ImageNet  ImageNet ReaL  ImageNet + ReaL  ImageNet-R  \\\n",
       "ResNet-18         69.45          76.94            76.47       32.14   \n",
       "ResNet-50         75.75          82.63            82.97       35.39   \n",
       "ViT-B/32          75.75          81.89            82.59       41.29   \n",
       "VGG-16            71.37          78.90            78.52       26.98   \n",
       "AlexNet           56.16          62.67            61.76       21.10   \n",
       "CLIP ViT-L/14     75.04          80.69            81.95       86.83   \n",
       "\n",
       "               ImageNet-A  ImageNet-Sketch  ObjectNet  \n",
       "ResNet-18            1.37            19.41      27.59  \n",
       "ResNet-50            0.21            22.91      36.18  \n",
       "ViT-B/32             9.64            26.83      30.89  \n",
       "VGG-16               2.69            16.78      28.32  \n",
       "AlexNet              1.75            10.05      14.23  \n",
       "CLIP ViT-L/14       71.28            58.23      66.32  "
      ]
     },
     "execution_count": 5,
     "metadata": {},
     "output_type": "execute_result"
    }
   ],
   "source": [
    "s_acc_df = pd.DataFrame(standard_accuracy)\n",
    "s_acc_df.index = [pretty_model_names[i] for i in s_acc_df.index]\n",
    "s_acc_df.columns = [pretty_dataset_names[i] for i in s_acc_df.columns]\n",
    "s_acc_df.round(2)"
   ]
  },
  {
   "cell_type": "code",
   "execution_count": 6,
   "metadata": {},
   "outputs": [
    {
     "data": {
      "text/html": [
       "<div>\n",
       "<style scoped>\n",
       "    .dataframe tbody tr th:only-of-type {\n",
       "        vertical-align: middle;\n",
       "    }\n",
       "\n",
       "    .dataframe tbody tr th {\n",
       "        vertical-align: top;\n",
       "    }\n",
       "\n",
       "    .dataframe thead th {\n",
       "        text-align: right;\n",
       "    }\n",
       "</style>\n",
       "<table border=\"1\" class=\"dataframe\">\n",
       "  <thead>\n",
       "    <tr style=\"text-align: right;\">\n",
       "      <th></th>\n",
       "      <th>ImageNet</th>\n",
       "      <th>ImageNet ReaL</th>\n",
       "      <th>ImageNet + ReaL</th>\n",
       "      <th>ImageNet-R</th>\n",
       "      <th>ImageNet-A</th>\n",
       "      <th>ImageNet-Sketch</th>\n",
       "      <th>ObjectNet</th>\n",
       "    </tr>\n",
       "  </thead>\n",
       "  <tbody>\n",
       "    <tr>\n",
       "      <th>ResNet-18</th>\n",
       "      <td>95.15</td>\n",
       "      <td>97.76</td>\n",
       "      <td>97.55</td>\n",
       "      <td>66.89</td>\n",
       "      <td>58.87</td>\n",
       "      <td>43.68</td>\n",
       "      <td>71.44</td>\n",
       "    </tr>\n",
       "    <tr>\n",
       "      <th>ResNet-50</th>\n",
       "      <td>96.78</td>\n",
       "      <td>98.62</td>\n",
       "      <td>98.57</td>\n",
       "      <td>68.84</td>\n",
       "      <td>66.68</td>\n",
       "      <td>47.64</td>\n",
       "      <td>76.83</td>\n",
       "    </tr>\n",
       "    <tr>\n",
       "      <th>ViT-B/32</th>\n",
       "      <td>97.19</td>\n",
       "      <td>98.75</td>\n",
       "      <td>98.91</td>\n",
       "      <td>75.58</td>\n",
       "      <td>78.03</td>\n",
       "      <td>55.99</td>\n",
       "      <td>79.28</td>\n",
       "    </tr>\n",
       "    <tr>\n",
       "      <th>VGG-16</th>\n",
       "      <td>95.30</td>\n",
       "      <td>97.90</td>\n",
       "      <td>97.66</td>\n",
       "      <td>60.88</td>\n",
       "      <td>58.27</td>\n",
       "      <td>39.90</td>\n",
       "      <td>71.85</td>\n",
       "    </tr>\n",
       "    <tr>\n",
       "      <th>AlexNet</th>\n",
       "      <td>90.03</td>\n",
       "      <td>93.85</td>\n",
       "      <td>93.48</td>\n",
       "      <td>55.52</td>\n",
       "      <td>42.23</td>\n",
       "      <td>29.53</td>\n",
       "      <td>59.65</td>\n",
       "    </tr>\n",
       "    <tr>\n",
       "      <th>CLIP ViT-L/14</th>\n",
       "      <td>96.78</td>\n",
       "      <td>98.70</td>\n",
       "      <td>98.80</td>\n",
       "      <td>99.20</td>\n",
       "      <td>98.49</td>\n",
       "      <td>89.00</td>\n",
       "      <td>93.13</td>\n",
       "    </tr>\n",
       "  </tbody>\n",
       "</table>\n",
       "</div>"
      ],
      "text/plain": [
       "               ImageNet  ImageNet ReaL  ImageNet + ReaL  ImageNet-R  \\\n",
       "ResNet-18         95.15          97.76            97.55       66.89   \n",
       "ResNet-50         96.78          98.62            98.57       68.84   \n",
       "ViT-B/32          97.19          98.75            98.91       75.58   \n",
       "VGG-16            95.30          97.90            97.66       60.88   \n",
       "AlexNet           90.03          93.85            93.48       55.52   \n",
       "CLIP ViT-L/14     96.78          98.70            98.80       99.20   \n",
       "\n",
       "               ImageNet-A  ImageNet-Sketch  ObjectNet  \n",
       "ResNet-18           58.87            43.68      71.44  \n",
       "ResNet-50           66.68            47.64      76.83  \n",
       "ViT-B/32            78.03            55.99      79.28  \n",
       "VGG-16              58.27            39.90      71.85  \n",
       "AlexNet             42.23            29.53      59.65  \n",
       "CLIP ViT-L/14       98.49            89.00      93.13  "
      ]
     },
     "execution_count": 6,
     "metadata": {},
     "output_type": "execute_result"
    }
   ],
   "source": [
    "m_acc_df = pd.DataFrame(max_possible_accuracy)\n",
    "m_acc_df.index = [pretty_model_names[i] for i in m_acc_df.index]\n",
    "m_acc_df.columns = [pretty_dataset_names[i] for i in m_acc_df.columns]\n",
    "m_acc_df.round(2)"
   ]
  },
  {
   "attachments": {},
   "cell_type": "markdown",
   "metadata": {},
   "source": [
    "### Load Min-Cover"
   ]
  },
  {
   "cell_type": "code",
   "execution_count": 7,
   "metadata": {},
   "outputs": [],
   "source": [
    "# dump min covers to file\n",
    "\n",
    "with open('../data/min_covers.pkl', 'rb') as f:\n",
    "    min_covers = pickle.load(f)"
   ]
  },
  {
   "attachments": {},
   "cell_type": "markdown",
   "metadata": {},
   "source": [
    "## Analysis"
   ]
  },
  {
   "cell_type": "code",
   "execution_count": 8,
   "metadata": {},
   "outputs": [],
   "source": [
    "# load preprocess anchor visibility data for each dataset\n",
    "# here we show ImageNet-A as an example\n",
    "with open(\"../data/all_visibility_data_imagenet_a.pickle\", \"rb\") as f:\n",
    "    anchor_visibility = pickle.load(f)"
   ]
  },
  {
   "cell_type": "code",
   "execution_count": 9,
   "metadata": {},
   "outputs": [],
   "source": [
    "color_codes = [int(y * 255) for x in sns.color_palette(None, 9) for y in x]\n",
    "color_codes = list(zip(*[iter(color_codes)] * 3))\n",
    "\n",
    "vis_by_query = {\n",
    "    x: pd.DataFrame.from_dict(anchor_visibility[x], orient=\"index\")\n",
    "    for x in range(len(anchor_visibility))\n",
    "}"
   ]
  },
  {
   "cell_type": "code",
   "execution_count": 10,
   "metadata": {},
   "outputs": [
    {
     "ename": "NameError",
     "evalue": "name 'model_correctness_pair' is not defined",
     "output_type": "error",
     "traceback": [
      "\u001b[0;31m---------------------------------------------------------------------------\u001b[0m",
      "\u001b[0;31mNameError\u001b[0m                                 Traceback (most recent call last)",
      "\u001b[1;32m/home/mohammad/src/ZoomIsAllYouNeed/src/analysis/center-bias-analysis.ipynb Cell 16\u001b[0m in \u001b[0;36m<cell line: 1>\u001b[0;34m()\u001b[0m\n\u001b[0;32m----> <a href='vscode-notebook-cell://ssh-remote%2B7b22686f73744e616d65223a2244697265637447505535227d/home/mohammad/src/ZoomIsAllYouNeed/src/analysis/center-bias-analysis.ipynb#X21sdnNjb2RlLXJlbW90ZQ%3D%3D?line=0'>1</a>\u001b[0m columns \u001b[39m=\u001b[39m model_correctness_pair[\u001b[39m'\u001b[39m\u001b[39mresnet18\u001b[39m\u001b[39m'\u001b[39m]\u001b[39m.\u001b[39mcolumns\n\u001b[1;32m      <a href='vscode-notebook-cell://ssh-remote%2B7b22686f73744e616d65223a2244697265637447505535227d/home/mohammad/src/ZoomIsAllYouNeed/src/analysis/center-bias-analysis.ipynb#X21sdnNjb2RlLXJlbW90ZQ%3D%3D?line=1'>2</a>\u001b[0m columns \u001b[39m=\u001b[39m [\u001b[39mint\u001b[39m(x) \u001b[39mfor\u001b[39;00m x \u001b[39min\u001b[39;00m columns]\n",
      "\u001b[0;31mNameError\u001b[0m: name 'model_correctness_pair' is not defined"
     ]
    }
   ],
   "source": [
    "columns = model_correctness_pair['resnet18'].columns\n",
    "columns = [int(x) for x in columns]"
   ]
  },
  {
   "cell_type": "code",
   "execution_count": null,
   "metadata": {},
   "outputs": [],
   "source": [
    "def get_vizcheck_by_anchor(anchor_loc, real_columns=columns):\n",
    "    tdf = pd.concat([vis_by_query[i][anchor_loc] for i in range(7500)], axis=1)\n",
    "    tdf.columns = tdf.columns.droplevel()\n",
    "    tdf.columns = range(7500)\n",
    "    tdf = tdf[real_columns]\n",
    "    return tdf"
   ]
  },
  {
   "cell_type": "code",
   "execution_count": null,
   "metadata": {},
   "outputs": [],
   "source": [
    "viz_loc_df = {}\n",
    "\n",
    "for i in range(3):\n",
    "    for j in range(3):\n",
    "        viz_loc_df[(i, j)] = get_vizcheck_by_anchor((i, j))"
   ]
  },
  {
   "cell_type": "code",
   "execution_count": null,
   "metadata": {},
   "outputs": [],
   "source": [
    "def show_accuracy(\n",
    "    model_name, show_min_cover=False, min_covers=min_cover, tdf=viz_loc_df, pdf=None\n",
    "):\n",
    "    model_df = model_correctness_pair[model_name]\n",
    "    model_df.columns = [int(x) for x in model_df.columns]\n",
    "    grid_numbers = np.zeros((3, 3))\n",
    "\n",
    "    if show_min_cover:\n",
    "        index_cover = min_covers[model_name][0]\n",
    "        model_df = model_df.loc[index_cover]\n",
    "\n",
    "    list_acc = []\n",
    "\n",
    "    for i in range(3):\n",
    "        for j in range(3):\n",
    "            if show_min_cover:\n",
    "                list_acc.append(\n",
    "                    100\n",
    "                    * np.mean(\n",
    "                        model_df[tdf[(i, j)].loc[index_cover]].fillna(False).max(0)\n",
    "                    )\n",
    "                )\n",
    "            else:\n",
    "                list_acc.append(\n",
    "                    100 * np.mean(model_df[tdf[(i, j)]].fillna(False).max(0))\n",
    "                )\n",
    "\n",
    "    fig, axes = plt.subplots(3, 3, figsize=(6, 6))\n",
    "\n",
    "    for i in range(3):\n",
    "        for j in range(3):\n",
    "            axes[i, j].set_xticks([])\n",
    "            axes[i, j].set_yticks([])\n",
    "\n",
    "            axes[i, j].text(0.3, 0.4, f\"{round(list_acc[i*3+j], 2)}%\", fontsize=18)\n",
    "            grid_numbers[i, j] = list_acc[i * 3 + j]\n",
    "\n",
    "    fig.suptitle(f\"{model_name.capitalize()} - MinCover: {show_min_cover}\")\n",
    "    plt.tight_layout()\n",
    "    if pdf:\n",
    "        pdf.savefig(fig)\n",
    "    return list_acc, grid_numbers, fig"
   ]
  },
  {
   "cell_type": "code",
   "execution_count": null,
   "metadata": {},
   "outputs": [
    {
     "data": {
      "text/html": [
       "<div>\n",
       "<style scoped>\n",
       "    .dataframe tbody tr th:only-of-type {\n",
       "        vertical-align: middle;\n",
       "    }\n",
       "\n",
       "    .dataframe tbody tr th {\n",
       "        vertical-align: top;\n",
       "    }\n",
       "\n",
       "    .dataframe thead th {\n",
       "        text-align: right;\n",
       "    }\n",
       "</style>\n",
       "<table border=\"1\" class=\"dataframe\">\n",
       "  <thead>\n",
       "    <tr style=\"text-align: right;\">\n",
       "      <th></th>\n",
       "      <th>0</th>\n",
       "      <th>1</th>\n",
       "      <th>2</th>\n",
       "    </tr>\n",
       "  </thead>\n",
       "  <tbody>\n",
       "    <tr>\n",
       "      <th>0</th>\n",
       "      <td>22.746667</td>\n",
       "      <td>27.720000</td>\n",
       "      <td>22.933333</td>\n",
       "    </tr>\n",
       "    <tr>\n",
       "      <th>1</th>\n",
       "      <td>28.706667</td>\n",
       "      <td>47.040000</td>\n",
       "      <td>27.906667</td>\n",
       "    </tr>\n",
       "    <tr>\n",
       "      <th>2</th>\n",
       "      <td>23.733333</td>\n",
       "      <td>28.653333</td>\n",
       "      <td>23.333333</td>\n",
       "    </tr>\n",
       "  </tbody>\n",
       "</table>\n",
       "</div>"
      ],
      "text/plain": [
       "           0          1          2\n",
       "0  22.746667  27.720000  22.933333\n",
       "1  28.706667  47.040000  27.906667\n",
       "2  23.733333  28.653333  23.333333"
      ]
     },
     "execution_count": 42,
     "metadata": {},
     "output_type": "execute_result"
    },
    {
     "data": {
      "image/png": "[encoded data removed]",
      "text/plain": [
       "<Figure size 600x600 with 9 Axes>"
      ]
     },
     "metadata": {},
     "output_type": "display_data"
    }
   ],
   "source": [
    "R = show_accuracy(\"resnet50\", show_min_cover=False)\n",
    "pd.DataFrame(R[1])"
   ]
  },
  {
   "cell_type": "code",
   "execution_count": null,
   "metadata": {},
   "outputs": [
    {
     "data": {
      "text/html": [
       "<div>\n",
       "<style scoped>\n",
       "    .dataframe tbody tr th:only-of-type {\n",
       "        vertical-align: middle;\n",
       "    }\n",
       "\n",
       "    .dataframe tbody tr th {\n",
       "        vertical-align: top;\n",
       "    }\n",
       "\n",
       "    .dataframe thead th {\n",
       "        text-align: right;\n",
       "    }\n",
       "</style>\n",
       "<table border=\"1\" class=\"dataframe\">\n",
       "  <thead>\n",
       "    <tr style=\"text-align: right;\">\n",
       "      <th></th>\n",
       "      <th>0</th>\n",
       "      <th>1</th>\n",
       "      <th>2</th>\n",
       "    </tr>\n",
       "  </thead>\n",
       "  <tbody>\n",
       "    <tr>\n",
       "      <th>0</th>\n",
       "      <td>21.173333</td>\n",
       "      <td>26.773333</td>\n",
       "      <td>21.586667</td>\n",
       "    </tr>\n",
       "    <tr>\n",
       "      <th>1</th>\n",
       "      <td>27.573333</td>\n",
       "      <td>46.493333</td>\n",
       "      <td>26.573333</td>\n",
       "    </tr>\n",
       "    <tr>\n",
       "      <th>2</th>\n",
       "      <td>22.520000</td>\n",
       "      <td>27.613333</td>\n",
       "      <td>22.306667</td>\n",
       "    </tr>\n",
       "  </tbody>\n",
       "</table>\n",
       "</div>"
      ],
      "text/plain": [
       "           0          1          2\n",
       "0  21.173333  26.773333  21.586667\n",
       "1  27.573333  46.493333  26.573333\n",
       "2  22.520000  27.613333  22.306667"
      ]
     },
     "execution_count": 43,
     "metadata": {},
     "output_type": "execute_result"
    },
    {
     "data": {
      "image/png": "[encoded data removed]",
      "text/plain": [
       "<Figure size 600x600 with 9 Axes>"
      ]
     },
     "metadata": {},
     "output_type": "display_data"
    }
   ],
   "source": [
    "R = show_accuracy(\"resnet50\", show_min_cover=True)\n",
    "pd.DataFrame(R[1])"
   ]
  },
  {
   "cell_type": "code",
   "execution_count": null,
   "metadata": {},
   "outputs": [],
   "source": []
  }
 ],
 "metadata": {
  "kernelspec": {
   "display_name": "Python (PyTorch1.11)",
   "language": "python",
   "name": "pytorch1.11"
  },
  "language_info": {
   "codemirror_mode": {
    "name": "ipython",
    "version": 3
   },
   "file_extension": ".py",
   "mimetype": "text/x-python",
   "name": "python",
   "nbconvert_exporter": "python",
   "pygments_lexer": "ipython3",
   "version": "3.8.12"
  }
 },
 "nbformat": 4,
 "nbformat_minor": 4
}
